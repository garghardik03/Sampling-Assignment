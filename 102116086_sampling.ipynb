{
 "cells": [
  {
   "cell_type": "code",
   "execution_count": 1,
   "metadata": {},
   "outputs": [],
   "source": [
    "import pandas as pd\n",
    "import numpy as np\n",
    "import math as m\n",
    "import matplotlib.pyplot as plt\n",
    "from imblearn.over_sampling import SMOTE\n",
    "from sklearn.model_selection import train_test_split\n",
    "from sklearn import metrics\n",
    "from sklearn.ensemble import RandomForestClassifier\n",
    "from sklearn.linear_model import LogisticRegression\n",
    "from sklearn.svm import SVC\n",
    "from sklearn.naive_bayes import GaussianNB\n",
    "from sklearn.metrics import accuracy_score\n",
    "from sklearn.tree import DecisionTreeClassifier\n",
    "from scipy.stats import shapiro"
   ]
  },
  {
   "cell_type": "code",
   "execution_count": 2,
   "metadata": {},
   "outputs": [],
   "source": [
    "heading=['Simple-Random','Systematic','Cluster','Stratified','Convenience']\n",
    "ans=pd.DataFrame(columns=heading, index=['SVM','Logistic Regression','Decision Tree','Random Forest','Naive Bayes'])"
   ]
  },
  {
   "cell_type": "code",
   "execution_count": 3,
   "metadata": {},
   "outputs": [],
   "source": [
    "data=pd.read_csv('Creditcard_data.csv')"
   ]
  },
  {
   "cell_type": "code",
   "execution_count": 4,
   "metadata": {},
   "outputs": [
    {
     "data": {
      "text/html": [
       "<div>\n",
       "<style scoped>\n",
       "    .dataframe tbody tr th:only-of-type {\n",
       "        vertical-align: middle;\n",
       "    }\n",
       "\n",
       "    .dataframe tbody tr th {\n",
       "        vertical-align: top;\n",
       "    }\n",
       "\n",
       "    .dataframe thead th {\n",
       "        text-align: right;\n",
       "    }\n",
       "</style>\n",
       "<table border=\"1\" class=\"dataframe\">\n",
       "  <thead>\n",
       "    <tr style=\"text-align: right;\">\n",
       "      <th></th>\n",
       "      <th>Time</th>\n",
       "      <th>V1</th>\n",
       "      <th>V2</th>\n",
       "      <th>V3</th>\n",
       "      <th>V4</th>\n",
       "      <th>V5</th>\n",
       "      <th>V6</th>\n",
       "      <th>V7</th>\n",
       "      <th>V8</th>\n",
       "      <th>V9</th>\n",
       "      <th>...</th>\n",
       "      <th>V21</th>\n",
       "      <th>V22</th>\n",
       "      <th>V23</th>\n",
       "      <th>V24</th>\n",
       "      <th>V25</th>\n",
       "      <th>V26</th>\n",
       "      <th>V27</th>\n",
       "      <th>V28</th>\n",
       "      <th>Amount</th>\n",
       "      <th>Class</th>\n",
       "    </tr>\n",
       "  </thead>\n",
       "  <tbody>\n",
       "    <tr>\n",
       "      <th>0</th>\n",
       "      <td>0</td>\n",
       "      <td>-1.359807</td>\n",
       "      <td>-0.072781</td>\n",
       "      <td>2.536347</td>\n",
       "      <td>1.378155</td>\n",
       "      <td>-0.338321</td>\n",
       "      <td>0.462388</td>\n",
       "      <td>0.239599</td>\n",
       "      <td>0.098698</td>\n",
       "      <td>0.363787</td>\n",
       "      <td>...</td>\n",
       "      <td>-0.018307</td>\n",
       "      <td>0.277838</td>\n",
       "      <td>-0.110474</td>\n",
       "      <td>0.066928</td>\n",
       "      <td>0.128539</td>\n",
       "      <td>-0.189115</td>\n",
       "      <td>0.133558</td>\n",
       "      <td>-0.021053</td>\n",
       "      <td>149.62</td>\n",
       "      <td>0</td>\n",
       "    </tr>\n",
       "    <tr>\n",
       "      <th>1</th>\n",
       "      <td>0</td>\n",
       "      <td>1.191857</td>\n",
       "      <td>0.266151</td>\n",
       "      <td>0.166480</td>\n",
       "      <td>0.448154</td>\n",
       "      <td>0.060018</td>\n",
       "      <td>-0.082361</td>\n",
       "      <td>-0.078803</td>\n",
       "      <td>0.085102</td>\n",
       "      <td>-0.255425</td>\n",
       "      <td>...</td>\n",
       "      <td>-0.225775</td>\n",
       "      <td>-0.638672</td>\n",
       "      <td>0.101288</td>\n",
       "      <td>-0.339846</td>\n",
       "      <td>0.167170</td>\n",
       "      <td>0.125895</td>\n",
       "      <td>-0.008983</td>\n",
       "      <td>0.014724</td>\n",
       "      <td>2.69</td>\n",
       "      <td>1</td>\n",
       "    </tr>\n",
       "    <tr>\n",
       "      <th>2</th>\n",
       "      <td>1</td>\n",
       "      <td>-1.358354</td>\n",
       "      <td>-1.340163</td>\n",
       "      <td>1.773209</td>\n",
       "      <td>0.379780</td>\n",
       "      <td>-0.503198</td>\n",
       "      <td>1.800499</td>\n",
       "      <td>0.791461</td>\n",
       "      <td>0.247676</td>\n",
       "      <td>-1.514654</td>\n",
       "      <td>...</td>\n",
       "      <td>0.247998</td>\n",
       "      <td>0.771679</td>\n",
       "      <td>0.909412</td>\n",
       "      <td>-0.689281</td>\n",
       "      <td>-0.327642</td>\n",
       "      <td>-0.139097</td>\n",
       "      <td>-0.055353</td>\n",
       "      <td>-0.059752</td>\n",
       "      <td>378.66</td>\n",
       "      <td>0</td>\n",
       "    </tr>\n",
       "    <tr>\n",
       "      <th>3</th>\n",
       "      <td>1</td>\n",
       "      <td>-0.966272</td>\n",
       "      <td>-0.185226</td>\n",
       "      <td>1.792993</td>\n",
       "      <td>-0.863291</td>\n",
       "      <td>-0.010309</td>\n",
       "      <td>1.247203</td>\n",
       "      <td>0.237609</td>\n",
       "      <td>0.377436</td>\n",
       "      <td>-1.387024</td>\n",
       "      <td>...</td>\n",
       "      <td>-0.108300</td>\n",
       "      <td>0.005274</td>\n",
       "      <td>-0.190321</td>\n",
       "      <td>-1.175575</td>\n",
       "      <td>0.647376</td>\n",
       "      <td>-0.221929</td>\n",
       "      <td>0.062723</td>\n",
       "      <td>0.061458</td>\n",
       "      <td>123.50</td>\n",
       "      <td>0</td>\n",
       "    </tr>\n",
       "    <tr>\n",
       "      <th>4</th>\n",
       "      <td>2</td>\n",
       "      <td>-1.158233</td>\n",
       "      <td>0.877737</td>\n",
       "      <td>1.548718</td>\n",
       "      <td>0.403034</td>\n",
       "      <td>-0.407193</td>\n",
       "      <td>0.095921</td>\n",
       "      <td>0.592941</td>\n",
       "      <td>-0.270533</td>\n",
       "      <td>0.817739</td>\n",
       "      <td>...</td>\n",
       "      <td>-0.009431</td>\n",
       "      <td>0.798278</td>\n",
       "      <td>-0.137458</td>\n",
       "      <td>0.141267</td>\n",
       "      <td>-0.206010</td>\n",
       "      <td>0.502292</td>\n",
       "      <td>0.219422</td>\n",
       "      <td>0.215153</td>\n",
       "      <td>69.99</td>\n",
       "      <td>0</td>\n",
       "    </tr>\n",
       "  </tbody>\n",
       "</table>\n",
       "<p>5 rows × 31 columns</p>\n",
       "</div>"
      ],
      "text/plain": [
       "   Time        V1        V2        V3        V4        V5        V6        V7  \\\n",
       "0     0 -1.359807 -0.072781  2.536347  1.378155 -0.338321  0.462388  0.239599   \n",
       "1     0  1.191857  0.266151  0.166480  0.448154  0.060018 -0.082361 -0.078803   \n",
       "2     1 -1.358354 -1.340163  1.773209  0.379780 -0.503198  1.800499  0.791461   \n",
       "3     1 -0.966272 -0.185226  1.792993 -0.863291 -0.010309  1.247203  0.237609   \n",
       "4     2 -1.158233  0.877737  1.548718  0.403034 -0.407193  0.095921  0.592941   \n",
       "\n",
       "         V8        V9  ...       V21       V22       V23       V24       V25  \\\n",
       "0  0.098698  0.363787  ... -0.018307  0.277838 -0.110474  0.066928  0.128539   \n",
       "1  0.085102 -0.255425  ... -0.225775 -0.638672  0.101288 -0.339846  0.167170   \n",
       "2  0.247676 -1.514654  ...  0.247998  0.771679  0.909412 -0.689281 -0.327642   \n",
       "3  0.377436 -1.387024  ... -0.108300  0.005274 -0.190321 -1.175575  0.647376   \n",
       "4 -0.270533  0.817739  ... -0.009431  0.798278 -0.137458  0.141267 -0.206010   \n",
       "\n",
       "        V26       V27       V28  Amount  Class  \n",
       "0 -0.189115  0.133558 -0.021053  149.62      0  \n",
       "1  0.125895 -0.008983  0.014724    2.69      1  \n",
       "2 -0.139097 -0.055353 -0.059752  378.66      0  \n",
       "3 -0.221929  0.062723  0.061458  123.50      0  \n",
       "4  0.502292  0.219422  0.215153   69.99      0  \n",
       "\n",
       "[5 rows x 31 columns]"
      ]
     },
     "execution_count": 4,
     "metadata": {},
     "output_type": "execute_result"
    }
   ],
   "source": [
    "data.head()"
   ]
  },
  {
   "cell_type": "code",
   "execution_count": 5,
   "metadata": {},
   "outputs": [
    {
     "data": {
      "text/plain": [
       "Class\n",
       "0    763\n",
       "1      9\n",
       "Name: count, dtype: int64"
      ]
     },
     "execution_count": 5,
     "metadata": {},
     "output_type": "execute_result"
    }
   ],
   "source": [
    "data['Class'].value_counts()"
   ]
  },
  {
   "cell_type": "code",
   "execution_count": 6,
   "metadata": {},
   "outputs": [
    {
     "data": {
      "text/plain": [
       "<Axes: title={'center': 'Class Distribution'}, xlabel='Class', ylabel='Count'>"
      ]
     },
     "execution_count": 6,
     "metadata": {},
     "output_type": "execute_result"
    },
    {
     "data": {
      "image/png": "[encoded data removed]",
      "text/plain": [
       "<Figure size 400x400 with 1 Axes>"
      ]
     },
     "metadata": {},
     "output_type": "display_data"
    }
   ],
   "source": [
    "plt.figure(figsize=(4,4))\n",
    "plt.title('Class Distribution')\n",
    "plt.xlabel('Class')\n",
    "plt.ylabel('Count')\n",
    "data['Class'].value_counts().plot(kind='bar')"
   ]
  },
  {
   "cell_type": "code",
   "execution_count": 7,
   "metadata": {},
   "outputs": [],
   "source": [
    "X=data.drop(columns={'Class'},axis=1)\n",
    "y=data['Class']"
   ]
  },
  {
   "cell_type": "code",
   "execution_count": 8,
   "metadata": {},
   "outputs": [],
   "source": [
    "smote=SMOTE(sampling_strategy='minority')\n",
    "X_sm,y_sm=smote.fit_resample(X,y)"
   ]
  },
  {
   "cell_type": "code",
   "execution_count": 9,
   "metadata": {},
   "outputs": [],
   "source": [
    "X_train,X_test,y_train,y_test=train_test_split(X_sm,y_sm,test_size=0.2,random_state=42)"
   ]
  },
  {
   "cell_type": "code",
   "execution_count": 10,
   "metadata": {},
   "outputs": [
    {
     "name": "stdout",
     "output_type": "stream",
     "text": [
      "Training Accuracy: 100.0\n",
      "Testing Accuracy: 99.34640522875817\n"
     ]
    }
   ],
   "source": [
    "model=RandomForestClassifier()\n",
    "model.fit(X_train,y_train)\n",
    "print('Training Accuracy:',metrics.accuracy_score(y_train,model.predict(X_train))*100)\n",
    "print('Testing Accuracy:',metrics.accuracy_score(y_test,model.predict(X_test))*100)"
   ]
  },
  {
   "cell_type": "code",
   "execution_count": 11,
   "metadata": {},
   "outputs": [],
   "source": [
    "df=pd.DataFrame(X_sm)\n",
    "df['Class']=y_sm"
   ]
  },
  {
   "cell_type": "code",
   "execution_count": 12,
   "metadata": {},
   "outputs": [
    {
     "data": {
      "text/plain": [
       "Class\n",
       "0    200\n",
       "1    185\n",
       "Name: count, dtype: int64"
      ]
     },
     "execution_count": 12,
     "metadata": {},
     "output_type": "execute_result"
    }
   ],
   "source": [
    "# Simple Random Sampling\n",
    "\n",
    "z=1.96\n",
    "p=0.5\n",
    "E=0.05\n",
    "sample_size=m.ceil((z**2*p*(1-p))/(E**2))\n",
    "\n",
    "samples=[]\n",
    "s1=df.sample(n=sample_size,random_state=0)\n",
    "samples.append(s1)\n",
    "s1['Class'].value_counts()"
   ]
  },
  {
   "cell_type": "code",
   "execution_count": 13,
   "metadata": {},
   "outputs": [
    {
     "data": {
      "text/plain": [
       "Class\n",
       "0    449\n",
       "1    415\n",
       "Name: count, dtype: int64"
      ]
     },
     "execution_count": 13,
     "metadata": {},
     "output_type": "execute_result"
    }
   ],
   "source": [
    "# Cluster Sampling\n",
    "\n",
    "z=1.96\n",
    "p=0.5\n",
    "E=0.05\n",
    "C=1.5\n",
    "sample_size=round((z**2*p*(1-p))/((E/C)**2))\n",
    "clusters=2\n",
    "df_new=df\n",
    "N = len(df)\n",
    "K = int(N/sample_size)\n",
    "data = None\n",
    "for k in range(K):\n",
    "    sample_k = df_new.sample(sample_size)\n",
    "    sample_k[\"cluster\"] = np.repeat(k,len(sample_k))\n",
    "    df_new = df_new.drop(index = sample_k.index)\n",
    "    data = pd.concat([data,sample_k],axis = 0)\n",
    "\n",
    "random_chosen_clusters = np.random.randint(0,K,size = clusters)\n",
    "s3 = data[data.cluster.isin(random_chosen_clusters)]\n",
    "s3.drop(['cluster'], axis=1, inplace=True)\n",
    "samples.append(s3)   \n",
    "s3['Class'].value_counts()  "
   ]
  },
  {
   "cell_type": "code",
   "execution_count": 14,
   "metadata": {},
   "outputs": [
    {
     "data": {
      "text/plain": [
       "Class\n",
       "0    20\n",
       "1    20\n",
       "Name: count, dtype: int64"
      ]
     },
     "execution_count": 14,
     "metadata": {},
     "output_type": "execute_result"
    }
   ],
   "source": [
    "\n",
    "#Systematic Sampling\n",
    "\n",
    "n=len(df) \n",
    "k=int(m.sqrt(n)) \n",
    "s2=df.iloc[::k] \n",
    "samples.append(s2)\n",
    "s2['Class'].value_counts()"
   ]
  },
  {
   "cell_type": "code",
   "execution_count": 15,
   "metadata": {},
   "outputs": [
    {
     "data": {
      "text/plain": [
       "Class\n",
       "0    188\n",
       "1    188\n",
       "Name: count, dtype: int64"
      ]
     },
     "execution_count": 15,
     "metadata": {},
     "output_type": "execute_result"
    }
   ],
   "source": [
    "# Stratefied Sampling\n",
    "\n",
    "z=1.96\n",
    "p=0.5\n",
    "E=0.05\n",
    "S=0.7\n",
    "sample_size=round((z**2*p*(1-p))/((E/S)**2))\n",
    "s4=df.groupby('Class', group_keys=False).apply(lambda x: x.sample(sample_size))\n",
    "samples.append(s4)\n",
    "s4['Class'].value_counts()"
   ]
  },
  {
   "cell_type": "code",
   "execution_count": 16,
   "metadata": {},
   "outputs": [
    {
     "data": {
      "text/plain": [
       "Class\n",
       "0    347\n",
       "1      3\n",
       "Name: count, dtype: int64"
      ]
     },
     "execution_count": 16,
     "metadata": {},
     "output_type": "execute_result"
    }
   ],
   "source": [
    "# Convenience Sampling\n",
    "\n",
    "s5=df.head(350)\n",
    "samples.append(s5)\n",
    "s5['Class'].value_counts()"
   ]
  },
  {
   "cell_type": "code",
   "execution_count": 17,
   "metadata": {},
   "outputs": [
    {
     "name": "stdout",
     "output_type": "stream",
     "text": [
      "ShapiroResult(statistic=0.1743699312210083, pvalue=0.0)\n",
      "ShapiroResult(statistic=0.16341418027877808, pvalue=0.0)\n",
      "ShapiroResult(statistic=0.18224209547042847, pvalue=0.0)\n",
      "ShapiroResult(statistic=0.1739422082901001, pvalue=0.0)\n",
      "ShapiroResult(statistic=0.09570705890655518, pvalue=0.0)\n"
     ]
    },
    {
     "name": "stderr",
     "output_type": "stream",
     "text": [
      "c:\\Users\\Hardik Garg\\AppData\\Local\\Programs\\Python\\Python311\\Lib\\site-packages\\scipy\\stats\\_morestats.py:1882: UserWarning: p-value may not be accurate for N > 5000.\n",
      "  warnings.warn(\"p-value may not be accurate for N > 5000.\")\n"
     ]
    }
   ],
   "source": [
    "# Check goodness of each sample using Shapiro-Wilk test\n",
    "\n",
    "for i in range(5):\n",
    "  print(shapiro(samples[i]))"
   ]
  },
  {
   "cell_type": "code",
   "execution_count": 18,
   "metadata": {},
   "outputs": [
    {
     "name": "stdout",
     "output_type": "stream",
     "text": [
      "                    Simple-Random Systematic Cluster Stratified Convenience\n",
      "SVM                     72.164948  69.444444    50.0  67.021277   97.727273\n",
      "Logistic Regression     86.597938  87.962963    60.0  92.553191   97.727273\n",
      "Decision Tree           88.659794  95.833333    80.0  93.617021   95.454545\n",
      "Random Forest           98.969072  99.537037    60.0   97.87234   97.727273\n",
      "Naive Bayes             98.969072  99.537037    60.0   97.87234   97.727273\n"
     ]
    }
   ],
   "source": [
    "# Applying Models\n",
    "\n",
    "for i in range(5):\n",
    "  j=0\n",
    "  x_s=samples[i].drop('Class',axis=1)\n",
    "  y_s=samples[i]['Class']\n",
    "  xtrain, xtest, y_train, y_test = train_test_split(x_s ,y_s , random_state=104,test_size=0.25, shuffle=True)\n",
    "  \n",
    "  # Applying SVM\n",
    "\n",
    "  clf = SVC(kernel='rbf')\n",
    "  clf.fit(xtrain, y_train) \n",
    "  y_pred=clf.predict(xtest)\n",
    "  acc = accuracy_score(y_test, y_pred)\n",
    "  ans.iloc[j,i]=acc*100\n",
    "\n",
    "  # Applying Logistic Regression\n",
    "\n",
    "  classifier = LogisticRegression(random_state = 0,max_iter=2000)\n",
    "  classifier.fit(xtrain, y_train)\n",
    "  y_pred = classifier.predict(xtest)\n",
    "  acc = accuracy_score(y_test, y_pred)\n",
    "  ans.iloc[j+1,i]=acc*100\n",
    "  \n",
    "  # Applying Decision Tree\n",
    "  classifier = DecisionTreeClassifier(criterion = 'entropy', random_state = 0)\n",
    "  classifier.fit(xtrain, y_train)\n",
    "  y_pred = classifier.predict(xtest)\n",
    "  acc = accuracy_score(y_test, y_pred)\n",
    "  ans.iloc[j+2,i]=acc*100\n",
    "\n",
    "  # Applying RandomForest Classifier\n",
    "\n",
    "  clf = RandomForestClassifier(n_estimators = 100) \n",
    "  clf.fit(xtrain, y_train)\n",
    "  y_pred = clf.predict(xtest)\n",
    "  acc = accuracy_score(y_test, y_pred)\n",
    "  ans.iloc[j+3,i]=acc*100\n",
    "\n",
    "  # Applying Naive bayes\n",
    "  \n",
    "  model = GaussianNB()\n",
    "  model.fit(xtrain,y_train)\n",
    "  predicted= model.predict(xtest)\n",
    "  acc = accuracy_score(y_test, y_pred)\n",
    "  ans.iloc[j+4,i]=acc*100\n",
    "\n",
    "print(ans)"
   ]
  },
  {
   "cell_type": "code",
   "execution_count": 19,
   "metadata": {},
   "outputs": [
    {
     "data": {
      "text/html": [
       "<style type=\"text/css\">\n",
       "#T_55ff8_row0_col4, #T_55ff8_row1_col4, #T_55ff8_row2_col1, #T_55ff8_row3_col1, #T_55ff8_row4_col1 {\n",
       "  background-color: red;\n",
       "}\n",
       "</style>\n",
       "<table id=\"T_55ff8\">\n",
       "  <thead>\n",
       "    <tr>\n",
       "      <th class=\"blank level0\" >&nbsp;</th>\n",
       "      <th id=\"T_55ff8_level0_col0\" class=\"col_heading level0 col0\" >Simple-Random</th>\n",
       "      <th id=\"T_55ff8_level0_col1\" class=\"col_heading level0 col1\" >Systematic</th>\n",
       "      <th id=\"T_55ff8_level0_col2\" class=\"col_heading level0 col2\" >Cluster</th>\n",
       "      <th id=\"T_55ff8_level0_col3\" class=\"col_heading level0 col3\" >Stratified</th>\n",
       "      <th id=\"T_55ff8_level0_col4\" class=\"col_heading level0 col4\" >Convenience</th>\n",
       "    </tr>\n",
       "  </thead>\n",
       "  <tbody>\n",
       "    <tr>\n",
       "      <th id=\"T_55ff8_level0_row0\" class=\"row_heading level0 row0\" >SVM</th>\n",
       "      <td id=\"T_55ff8_row0_col0\" class=\"data row0 col0\" >72.164948</td>\n",
       "      <td id=\"T_55ff8_row0_col1\" class=\"data row0 col1\" >69.444444</td>\n",
       "      <td id=\"T_55ff8_row0_col2\" class=\"data row0 col2\" >50.000000</td>\n",
       "      <td id=\"T_55ff8_row0_col3\" class=\"data row0 col3\" >67.021277</td>\n",
       "      <td id=\"T_55ff8_row0_col4\" class=\"data row0 col4\" >97.727273</td>\n",
       "    </tr>\n",
       "    <tr>\n",
       "      <th id=\"T_55ff8_level0_row1\" class=\"row_heading level0 row1\" >Logistic Regression</th>\n",
       "      <td id=\"T_55ff8_row1_col0\" class=\"data row1 col0\" >86.597938</td>\n",
       "      <td id=\"T_55ff8_row1_col1\" class=\"data row1 col1\" >87.962963</td>\n",
       "      <td id=\"T_55ff8_row1_col2\" class=\"data row1 col2\" >60.000000</td>\n",
       "      <td id=\"T_55ff8_row1_col3\" class=\"data row1 col3\" >92.553191</td>\n",
       "      <td id=\"T_55ff8_row1_col4\" class=\"data row1 col4\" >97.727273</td>\n",
       "    </tr>\n",
       "    <tr>\n",
       "      <th id=\"T_55ff8_level0_row2\" class=\"row_heading level0 row2\" >Decision Tree</th>\n",
       "      <td id=\"T_55ff8_row2_col0\" class=\"data row2 col0\" >88.659794</td>\n",
       "      <td id=\"T_55ff8_row2_col1\" class=\"data row2 col1\" >95.833333</td>\n",
       "      <td id=\"T_55ff8_row2_col2\" class=\"data row2 col2\" >80.000000</td>\n",
       "      <td id=\"T_55ff8_row2_col3\" class=\"data row2 col3\" >93.617021</td>\n",
       "      <td id=\"T_55ff8_row2_col4\" class=\"data row2 col4\" >95.454545</td>\n",
       "    </tr>\n",
       "    <tr>\n",
       "      <th id=\"T_55ff8_level0_row3\" class=\"row_heading level0 row3\" >Random Forest</th>\n",
       "      <td id=\"T_55ff8_row3_col0\" class=\"data row3 col0\" >98.969072</td>\n",
       "      <td id=\"T_55ff8_row3_col1\" class=\"data row3 col1\" >99.537037</td>\n",
       "      <td id=\"T_55ff8_row3_col2\" class=\"data row3 col2\" >60.000000</td>\n",
       "      <td id=\"T_55ff8_row3_col3\" class=\"data row3 col3\" >97.872340</td>\n",
       "      <td id=\"T_55ff8_row3_col4\" class=\"data row3 col4\" >97.727273</td>\n",
       "    </tr>\n",
       "    <tr>\n",
       "      <th id=\"T_55ff8_level0_row4\" class=\"row_heading level0 row4\" >Naive Bayes</th>\n",
       "      <td id=\"T_55ff8_row4_col0\" class=\"data row4 col0\" >98.969072</td>\n",
       "      <td id=\"T_55ff8_row4_col1\" class=\"data row4 col1\" >99.537037</td>\n",
       "      <td id=\"T_55ff8_row4_col2\" class=\"data row4 col2\" >60.000000</td>\n",
       "      <td id=\"T_55ff8_row4_col3\" class=\"data row4 col3\" >97.872340</td>\n",
       "      <td id=\"T_55ff8_row4_col4\" class=\"data row4 col4\" >97.727273</td>\n",
       "    </tr>\n",
       "  </tbody>\n",
       "</table>\n"
      ],
      "text/plain": [
       "<pandas.io.formats.style.Styler at 0x1bdcbf5b650>"
      ]
     },
     "execution_count": 19,
     "metadata": {},
     "output_type": "execute_result"
    }
   ],
   "source": [
    "def highlight_max(s):\n",
    "    is_max = s == s.max()\n",
    "    return ['background-color: red' if v else '' for v in is_max]\n",
    "\n",
    "ans.style.apply(highlight_max, axis=1)"
   ]
  }
 ],
 "metadata": {
  "kernelspec": {
   "display_name": "Python 3",
   "language": "python",
   "name": "python3"
  },
  "language_info": {
   "codemirror_mode": {
    "name": "ipython",
    "version": 3
   },
   "file_extension": ".py",
   "mimetype": "text/x-python",
   "name": "python",
   "nbconvert_exporter": "python",
   "pygments_lexer": "ipython3",
   "version": "3.11.4"
  }
 },
 "nbformat": 4,
 "nbformat_minor": 2
}
